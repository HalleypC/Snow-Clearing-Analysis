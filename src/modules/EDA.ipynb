{
 "cells": [
  {
   "cell_type": "markdown",
   "id": "92b01070-3408-4b08-ab72-44b6fc10a06c",
   "metadata": {},
   "source": [
    "# Snow Clearing Analysis from a Gendered Lens\n",
    "## EDA Notebook"
   ]
  },
  {
   "cell_type": "code",
   "execution_count": 1,
   "id": "80f62f8c-2228-488e-af02-caa1944a691d",
   "metadata": {},
   "outputs": [],
   "source": [
    "import pandas as pd"
   ]
  },
  {
   "cell_type": "code",
   "execution_count": 16,
   "id": "b30cca10-aee6-47ca-be74-3f65c304754c",
   "metadata": {},
   "outputs": [],
   "source": [
    "import numpy as np"
   ]
  },
  {
   "cell_type": "code",
   "execution_count": 7,
   "id": "47c8b20b-e2bb-4662-a1be-d7f2662b0632",
   "metadata": {},
   "outputs": [],
   "source": [
    "accidents = pd.read_excel('../../data/Pedestrians.xlsx')"
   ]
  },
  {
   "cell_type": "code",
   "execution_count": 8,
   "id": "a1e6f856-0029-4c69-bee0-17fe1d305769",
   "metadata": {},
   "outputs": [
    {
     "data": {
      "text/html": [
       "<div>\n",
       "<style scoped>\n",
       "    .dataframe tbody tr th:only-of-type {\n",
       "        vertical-align: middle;\n",
       "    }\n",
       "\n",
       "    .dataframe tbody tr th {\n",
       "        vertical-align: top;\n",
       "    }\n",
       "\n",
       "    .dataframe thead th {\n",
       "        text-align: right;\n",
       "    }\n",
       "</style>\n",
       "<table border=\"1\" class=\"dataframe\">\n",
       "  <thead>\n",
       "    <tr style=\"text-align: right;\">\n",
       "      <th></th>\n",
       "      <th>Location</th>\n",
       "      <th>Accident Year</th>\n",
       "      <th>Accident Date</th>\n",
       "      <th>Accident Time</th>\n",
       "      <th>Environment Condition 1</th>\n",
       "      <th>Road 1 Condition</th>\n",
       "      <th>Pedestrian</th>\n",
       "      <th>Pedestrian Action</th>\n",
       "      <th>Age Group</th>\n",
       "      <th>Sex</th>\n",
       "      <th>Position</th>\n",
       "      <th>Injuries</th>\n",
       "      <th>Safety Equipment Used</th>\n",
       "    </tr>\n",
       "  </thead>\n",
       "  <tbody>\n",
       "    <tr>\n",
       "      <th>0</th>\n",
       "      <td>FRANKTOWN RD btwn DWYER HILL RD &amp; SKEEL CRT (_...</td>\n",
       "      <td>2018</td>\n",
       "      <td>2018-02-09</td>\n",
       "      <td>01:19:00</td>\n",
       "      <td>01 - Clear</td>\n",
       "      <td>01 - Good</td>\n",
       "      <td>NaN</td>\n",
       "      <td>NaN</td>\n",
       "      <td>20-24</td>\n",
       "      <td>Male</td>\n",
       "      <td>03 - Front Right</td>\n",
       "      <td>04 - Fatal</td>\n",
       "      <td>01 - Lap and shoulder belt</td>\n",
       "    </tr>\n",
       "    <tr>\n",
       "      <th>1</th>\n",
       "      <td>AIRPORT PKWY (__3ZA222)</td>\n",
       "      <td>2018</td>\n",
       "      <td>2018-01-12</td>\n",
       "      <td>21:38:00</td>\n",
       "      <td>03 - Snow</td>\n",
       "      <td>01 - Good</td>\n",
       "      <td>NaN</td>\n",
       "      <td>NaN</td>\n",
       "      <td>25-29</td>\n",
       "      <td>Female</td>\n",
       "      <td>03 - Front Right</td>\n",
       "      <td>02 - Minor</td>\n",
       "      <td>01 - Lap and shoulder belt</td>\n",
       "    </tr>\n",
       "    <tr>\n",
       "      <th>2</th>\n",
       "      <td>ALBION RD @ FINDLAY CREEK DR (0013587)</td>\n",
       "      <td>2018</td>\n",
       "      <td>2018-01-13</td>\n",
       "      <td>15:29:00</td>\n",
       "      <td>01 - Clear</td>\n",
       "      <td>01 - Good</td>\n",
       "      <td>NaN</td>\n",
       "      <td>NaN</td>\n",
       "      <td>45-49</td>\n",
       "      <td>Female</td>\n",
       "      <td>03 - Front Right</td>\n",
       "      <td>01 - Minimal</td>\n",
       "      <td>00 - Use unknown</td>\n",
       "    </tr>\n",
       "    <tr>\n",
       "      <th>3</th>\n",
       "      <td>PRINCE OF WALES DR btwn FISHER AVE &amp; NE/OT BOU...</td>\n",
       "      <td>2018</td>\n",
       "      <td>2018-01-25</td>\n",
       "      <td>15:35:00</td>\n",
       "      <td>01 - Clear</td>\n",
       "      <td>01 - Good</td>\n",
       "      <td>NaN</td>\n",
       "      <td>NaN</td>\n",
       "      <td>20-24</td>\n",
       "      <td>Male</td>\n",
       "      <td>01 - Front Left</td>\n",
       "      <td>01 - Minimal</td>\n",
       "      <td>00 - Use unknown</td>\n",
       "    </tr>\n",
       "    <tr>\n",
       "      <th>4</th>\n",
       "      <td>CAMPEAU DR @ KANATA AVE (0012003)</td>\n",
       "      <td>2018</td>\n",
       "      <td>2018-01-26</td>\n",
       "      <td>08:15:00</td>\n",
       "      <td>01 - Clear</td>\n",
       "      <td>01 - Good</td>\n",
       "      <td>NaN</td>\n",
       "      <td>NaN</td>\n",
       "      <td>15-19</td>\n",
       "      <td>Male</td>\n",
       "      <td>04 - Rear Left</td>\n",
       "      <td>01 - Minimal</td>\n",
       "      <td>01 - Lap and shoulder belt</td>\n",
       "    </tr>\n",
       "  </tbody>\n",
       "</table>\n",
       "</div>"
      ],
      "text/plain": [
       "                                            Location  Accident Year  \\\n",
       "0  FRANKTOWN RD btwn DWYER HILL RD & SKEEL CRT (_...           2018   \n",
       "1                            AIRPORT PKWY (__3ZA222)           2018   \n",
       "2             ALBION RD @ FINDLAY CREEK DR (0013587)           2018   \n",
       "3  PRINCE OF WALES DR btwn FISHER AVE & NE/OT BOU...           2018   \n",
       "4                  CAMPEAU DR @ KANATA AVE (0012003)           2018   \n",
       "\n",
       "  Accident Date Accident Time Environment Condition 1 Road 1 Condition  \\\n",
       "0    2018-02-09      01:19:00              01 - Clear        01 - Good   \n",
       "1    2018-01-12      21:38:00               03 - Snow        01 - Good   \n",
       "2    2018-01-13      15:29:00              01 - Clear        01 - Good   \n",
       "3    2018-01-25      15:35:00              01 - Clear        01 - Good   \n",
       "4    2018-01-26      08:15:00              01 - Clear        01 - Good   \n",
       "\n",
       "   Pedestrian Pedestrian Action Age Group     Sex          Position  \\\n",
       "0         NaN               NaN     20-24    Male  03 - Front Right   \n",
       "1         NaN               NaN     25-29  Female  03 - Front Right   \n",
       "2         NaN               NaN     45-49  Female  03 - Front Right   \n",
       "3         NaN               NaN     20-24    Male   01 - Front Left   \n",
       "4         NaN               NaN     15-19    Male    04 - Rear Left   \n",
       "\n",
       "       Injuries       Safety Equipment Used  \n",
       "0    04 - Fatal  01 - Lap and shoulder belt  \n",
       "1    02 - Minor  01 - Lap and shoulder belt  \n",
       "2  01 - Minimal            00 - Use unknown  \n",
       "3  01 - Minimal            00 - Use unknown  \n",
       "4  01 - Minimal  01 - Lap and shoulder belt  "
      ]
     },
     "execution_count": 8,
     "metadata": {},
     "output_type": "execute_result"
    }
   ],
   "source": [
    "accidents.head()"
   ]
  },
  {
   "cell_type": "code",
   "execution_count": 12,
   "id": "131744b9-682f-44b3-92cd-b902c8ac44d8",
   "metadata": {},
   "outputs": [
    {
     "data": {
      "text/plain": [
       "(9444, 13)"
      ]
     },
     "execution_count": 12,
     "metadata": {},
     "output_type": "execute_result"
    }
   ],
   "source": [
    "accidents.shape"
   ]
  },
  {
   "cell_type": "code",
   "execution_count": 11,
   "id": "ace91bc0-575d-4565-a6fb-fd5fb4fddcdd",
   "metadata": {},
   "outputs": [
    {
     "data": {
      "text/plain": [
       "Location                      0\n",
       "Accident Year                 0\n",
       "Accident Date                 0\n",
       "Accident Time                 0\n",
       "Environment Condition 1       0\n",
       "Road 1 Condition              0\n",
       "Pedestrian                 8543\n",
       "Pedestrian Action          8544\n",
       "Age Group                    31\n",
       "Sex                           6\n",
       "Position                      0\n",
       "Injuries                      0\n",
       "Safety Equipment Used         1\n",
       "dtype: int64"
      ]
     },
     "execution_count": 11,
     "metadata": {},
     "output_type": "execute_result"
    }
   ],
   "source": [
    "accidents.isna().sum()"
   ]
  },
  {
   "cell_type": "code",
   "execution_count": 22,
   "id": "e9ef3806-b781-4d83-9b7f-57655dd2920f",
   "metadata": {},
   "outputs": [],
   "source": [
    "# if pedestrian = Nan, then this is a vehicle accident\n",
    "vehicle_accidents = accidents[accidents['Pedestrian'].isna()]"
   ]
  },
  {
   "cell_type": "code",
   "execution_count": 23,
   "id": "c1286422-5192-4ce0-88c5-891749bc6c84",
   "metadata": {},
   "outputs": [
    {
     "data": {
      "text/plain": [
       "(8543, 13)"
      ]
     },
     "execution_count": 23,
     "metadata": {},
     "output_type": "execute_result"
    }
   ],
   "source": [
    "vehicle_accidents.shape"
   ]
  },
  {
   "cell_type": "code",
   "execution_count": 25,
   "id": "cb125f72-57bf-434f-b67f-b7bea9794ea5",
   "metadata": {},
   "outputs": [],
   "source": [
    "pedestrian_accidents = accidents[~accidents.index.isin(vehicle_accidents.index)]"
   ]
  },
  {
   "cell_type": "code",
   "execution_count": 27,
   "id": "b70ed2c6-f81c-46e4-a6c7-60ea2e2e11bf",
   "metadata": {},
   "outputs": [
    {
     "data": {
      "text/plain": [
       "(901, 13)"
      ]
     },
     "execution_count": 27,
     "metadata": {},
     "output_type": "execute_result"
    }
   ],
   "source": [
    "pedestrian_accidents.shape"
   ]
  },
  {
   "cell_type": "code",
   "execution_count": 29,
   "id": "e167742b-2c3c-4fbe-9836-6ba89c23c29b",
   "metadata": {},
   "outputs": [
    {
     "data": {
      "text/plain": [
       "Location                   671\n",
       "Accident Year                3\n",
       "Accident Date              546\n",
       "Accident Time              575\n",
       "Environment Condition 1      8\n",
       "Road 1 Condition             4\n",
       "Pedestrian                   3\n",
       "Pedestrian Action           15\n",
       "Age Group                   17\n",
       "Sex                          3\n",
       "Position                     1\n",
       "Injuries                     5\n",
       "Safety Equipment Used        1\n",
       "dtype: int64"
      ]
     },
     "execution_count": 29,
     "metadata": {},
     "output_type": "execute_result"
    }
   ],
   "source": [
    "pedestrian_accidents.nunique()"
   ]
  },
  {
   "cell_type": "code",
   "execution_count": 30,
   "id": "9d5414af-a687-4ff6-9c5d-1b2f8a9088a4",
   "metadata": {},
   "outputs": [
    {
     "data": {
      "text/html": [
       "<div>\n",
       "<style scoped>\n",
       "    .dataframe tbody tr th:only-of-type {\n",
       "        vertical-align: middle;\n",
       "    }\n",
       "\n",
       "    .dataframe tbody tr th {\n",
       "        vertical-align: top;\n",
       "    }\n",
       "\n",
       "    .dataframe thead th {\n",
       "        text-align: right;\n",
       "    }\n",
       "</style>\n",
       "<table border=\"1\" class=\"dataframe\">\n",
       "  <thead>\n",
       "    <tr style=\"text-align: right;\">\n",
       "      <th></th>\n",
       "      <th>Location</th>\n",
       "      <th>Accident Year</th>\n",
       "      <th>Accident Date</th>\n",
       "      <th>Accident Time</th>\n",
       "      <th>Environment Condition 1</th>\n",
       "      <th>Road 1 Condition</th>\n",
       "      <th>Pedestrian</th>\n",
       "      <th>Pedestrian Action</th>\n",
       "      <th>Age Group</th>\n",
       "      <th>Sex</th>\n",
       "      <th>Position</th>\n",
       "      <th>Safety Equipment Used</th>\n",
       "    </tr>\n",
       "    <tr>\n",
       "      <th>Injuries</th>\n",
       "      <th></th>\n",
       "      <th></th>\n",
       "      <th></th>\n",
       "      <th></th>\n",
       "      <th></th>\n",
       "      <th></th>\n",
       "      <th></th>\n",
       "      <th></th>\n",
       "      <th></th>\n",
       "      <th></th>\n",
       "      <th></th>\n",
       "      <th></th>\n",
       "    </tr>\n",
       "  </thead>\n",
       "  <tbody>\n",
       "    <tr>\n",
       "      <th>00 - None</th>\n",
       "      <td>39</td>\n",
       "      <td>39</td>\n",
       "      <td>39</td>\n",
       "      <td>39</td>\n",
       "      <td>39</td>\n",
       "      <td>39</td>\n",
       "      <td>39</td>\n",
       "      <td>39</td>\n",
       "      <td>32</td>\n",
       "      <td>39</td>\n",
       "      <td>39</td>\n",
       "      <td>39</td>\n",
       "    </tr>\n",
       "    <tr>\n",
       "      <th>01 - Minimal</th>\n",
       "      <td>265</td>\n",
       "      <td>265</td>\n",
       "      <td>265</td>\n",
       "      <td>265</td>\n",
       "      <td>265</td>\n",
       "      <td>265</td>\n",
       "      <td>265</td>\n",
       "      <td>265</td>\n",
       "      <td>263</td>\n",
       "      <td>265</td>\n",
       "      <td>265</td>\n",
       "      <td>265</td>\n",
       "    </tr>\n",
       "    <tr>\n",
       "      <th>02 - Minor</th>\n",
       "      <td>501</td>\n",
       "      <td>501</td>\n",
       "      <td>501</td>\n",
       "      <td>501</td>\n",
       "      <td>501</td>\n",
       "      <td>501</td>\n",
       "      <td>501</td>\n",
       "      <td>500</td>\n",
       "      <td>501</td>\n",
       "      <td>501</td>\n",
       "      <td>501</td>\n",
       "      <td>501</td>\n",
       "    </tr>\n",
       "    <tr>\n",
       "      <th>03 - Major</th>\n",
       "      <td>78</td>\n",
       "      <td>78</td>\n",
       "      <td>78</td>\n",
       "      <td>78</td>\n",
       "      <td>78</td>\n",
       "      <td>78</td>\n",
       "      <td>78</td>\n",
       "      <td>78</td>\n",
       "      <td>78</td>\n",
       "      <td>78</td>\n",
       "      <td>78</td>\n",
       "      <td>78</td>\n",
       "    </tr>\n",
       "    <tr>\n",
       "      <th>04 - Fatal</th>\n",
       "      <td>18</td>\n",
       "      <td>18</td>\n",
       "      <td>18</td>\n",
       "      <td>18</td>\n",
       "      <td>18</td>\n",
       "      <td>18</td>\n",
       "      <td>18</td>\n",
       "      <td>18</td>\n",
       "      <td>18</td>\n",
       "      <td>18</td>\n",
       "      <td>18</td>\n",
       "      <td>18</td>\n",
       "    </tr>\n",
       "  </tbody>\n",
       "</table>\n",
       "</div>"
      ],
      "text/plain": [
       "              Location  Accident Year  Accident Date  Accident Time  \\\n",
       "Injuries                                                              \n",
       "00 - None           39             39             39             39   \n",
       "01 - Minimal       265            265            265            265   \n",
       "02 - Minor         501            501            501            501   \n",
       "03 - Major          78             78             78             78   \n",
       "04 - Fatal          18             18             18             18   \n",
       "\n",
       "              Environment Condition 1  Road 1 Condition  Pedestrian  \\\n",
       "Injuries                                                              \n",
       "00 - None                          39                39          39   \n",
       "01 - Minimal                      265               265         265   \n",
       "02 - Minor                        501               501         501   \n",
       "03 - Major                         78                78          78   \n",
       "04 - Fatal                         18                18          18   \n",
       "\n",
       "              Pedestrian Action  Age Group  Sex  Position  \\\n",
       "Injuries                                                    \n",
       "00 - None                    39         32   39        39   \n",
       "01 - Minimal                265        263  265       265   \n",
       "02 - Minor                  500        501  501       501   \n",
       "03 - Major                   78         78   78        78   \n",
       "04 - Fatal                   18         18   18        18   \n",
       "\n",
       "              Safety Equipment Used  \n",
       "Injuries                             \n",
       "00 - None                        39  \n",
       "01 - Minimal                    265  \n",
       "02 - Minor                      501  \n",
       "03 - Major                       78  \n",
       "04 - Fatal                       18  "
      ]
     },
     "execution_count": 30,
     "metadata": {},
     "output_type": "execute_result"
    }
   ],
   "source": [
    "pedestrian_accidents.groupby('Injuries').count()"
   ]
  },
  {
   "cell_type": "code",
   "execution_count": 33,
   "id": "80ac4d20-48e5-4694-a2d5-df80a4b43de3",
   "metadata": {},
   "outputs": [
    {
     "data": {
      "text/plain": [
       "Location                           object\n",
       "Accident Year                       int64\n",
       "Accident Date              datetime64[ns]\n",
       "Accident Time                      object\n",
       "Environment Condition 1            object\n",
       "Road 1 Condition                   object\n",
       "Pedestrian                        float64\n",
       "Pedestrian Action                  object\n",
       "Age Group                          object\n",
       "Sex                                object\n",
       "Position                           object\n",
       "Injuries                           object\n",
       "Safety Equipment Used              object\n",
       "dtype: object"
      ]
     },
     "execution_count": 33,
     "metadata": {},
     "output_type": "execute_result"
    }
   ],
   "source": [
    "pedestrian_accidents.dtypes"
   ]
  },
  {
   "cell_type": "code",
   "execution_count": null,
   "id": "8d27dbba-def6-4298-a2e5-b86653d64d94",
   "metadata": {},
   "outputs": [],
   "source": []
  },
  {
   "cell_type": "code",
   "execution_count": null,
   "id": "902e0c67-0dde-4df1-af71-54c277c66152",
   "metadata": {},
   "outputs": [],
   "source": []
  },
  {
   "cell_type": "code",
   "execution_count": 13,
   "id": "8982ee16-792c-4ff3-9983-07f9eb15f983",
   "metadata": {},
   "outputs": [],
   "source": [
    "xls = pd.ExcelFile('../../data/Pedestrians.xlsx')\n",
    "df1 = pd.read_excel(xls, 'Sheet1')\n",
    "df2 = pd.read_excel(xls, 'Sheet2')"
   ]
  },
  {
   "cell_type": "code",
   "execution_count": 14,
   "id": "4197adc3-9744-4dd6-9552-40d8f051140d",
   "metadata": {},
   "outputs": [
    {
     "data": {
      "text/plain": [
       "((9444, 13), (901, 11))"
      ]
     },
     "execution_count": 14,
     "metadata": {},
     "output_type": "execute_result"
    }
   ],
   "source": [
    "df1.shape, df2.shape"
   ]
  },
  {
   "cell_type": "code",
   "execution_count": null,
   "id": "f0ebf3fa-b0ac-4741-94c3-cf924afda660",
   "metadata": {},
   "outputs": [],
   "source": []
  },
  {
   "cell_type": "code",
   "execution_count": 5,
   "id": "182e9f39-e912-4f2b-96d6-8d381205ccd8",
   "metadata": {},
   "outputs": [],
   "source": [
    "collisions = pd.read_csv('../../data/Traffic_Collisions_by_location_2013.csv')"
   ]
  },
  {
   "cell_type": "code",
   "execution_count": 6,
   "id": "38b04bb9-002d-47ed-b22e-0d334b2149e7",
   "metadata": {},
   "outputs": [
    {
     "data": {
      "text/html": [
       "<div>\n",
       "<style scoped>\n",
       "    .dataframe tbody tr th:only-of-type {\n",
       "        vertical-align: middle;\n",
       "    }\n",
       "\n",
       "    .dataframe tbody tr th {\n",
       "        vertical-align: top;\n",
       "    }\n",
       "\n",
       "    .dataframe thead th {\n",
       "        text-align: right;\n",
       "    }\n",
       "</style>\n",
       "<table border=\"1\" class=\"dataframe\">\n",
       "  <thead>\n",
       "    <tr style=\"text-align: right;\">\n",
       "      <th></th>\n",
       "      <th>X</th>\n",
       "      <th>Y</th>\n",
       "      <th>RECORD</th>\n",
       "      <th>LOCATION___GEOID</th>\n",
       "      <th>TOTAL_COLLISIONS</th>\n",
       "      <th>CYCLIST_COLLISIONS</th>\n",
       "      <th>PEDESTRIAN_COLLISIONS</th>\n",
       "      <th>XCOORD</th>\n",
       "      <th>YCOORD</th>\n",
       "      <th>LONGITUDE</th>\n",
       "      <th>LATITUDE</th>\n",
       "      <th>ObjectId</th>\n",
       "    </tr>\n",
       "  </thead>\n",
       "  <tbody>\n",
       "    <tr>\n",
       "      <th>0</th>\n",
       "      <td>-75.972058</td>\n",
       "      <td>45.293178</td>\n",
       "      <td>601</td>\n",
       "      <td>CARP RD @ RICHARDSON SIDE RD (0005759)</td>\n",
       "      <td>3</td>\n",
       "      <td>0</td>\n",
       "      <td>0</td>\n",
       "      <td>346209.5557</td>\n",
       "      <td>5017160.457</td>\n",
       "      <td>-75.972058</td>\n",
       "      <td>45.293178</td>\n",
       "      <td>1</td>\n",
       "    </tr>\n",
       "    <tr>\n",
       "      <th>1</th>\n",
       "      <td>-75.946200</td>\n",
       "      <td>45.272493</td>\n",
       "      <td>602</td>\n",
       "      <td>CARP RD @ ROTHBOURNE RD (0002007)</td>\n",
       "      <td>1</td>\n",
       "      <td>0</td>\n",
       "      <td>0</td>\n",
       "      <td>348253.5717</td>\n",
       "      <td>5014875.436</td>\n",
       "      <td>-75.946200</td>\n",
       "      <td>45.272493</td>\n",
       "      <td>2</td>\n",
       "    </tr>\n",
       "    <tr>\n",
       "      <th>2</th>\n",
       "      <td>-75.930049</td>\n",
       "      <td>45.267507</td>\n",
       "      <td>603</td>\n",
       "      <td>CARP RD @ STITTSVILLE MAIN ST (0005253)</td>\n",
       "      <td>5</td>\n",
       "      <td>0</td>\n",
       "      <td>0</td>\n",
       "      <td>349524.7861</td>\n",
       "      <td>5014330.203</td>\n",
       "      <td>-75.930049</td>\n",
       "      <td>45.267507</td>\n",
       "      <td>3</td>\n",
       "    </tr>\n",
       "    <tr>\n",
       "      <th>3</th>\n",
       "      <td>-76.095795</td>\n",
       "      <td>45.373158</td>\n",
       "      <td>604</td>\n",
       "      <td>CARP RD @ THOMAS A. DOLAN PKWY (0002118)</td>\n",
       "      <td>1</td>\n",
       "      <td>0</td>\n",
       "      <td>0</td>\n",
       "      <td>336459.5381</td>\n",
       "      <td>5025992.327</td>\n",
       "      <td>-76.095795</td>\n",
       "      <td>45.373158</td>\n",
       "      <td>4</td>\n",
       "    </tr>\n",
       "    <tr>\n",
       "      <th>4</th>\n",
       "      <td>-75.952727</td>\n",
       "      <td>45.277627</td>\n",
       "      <td>605</td>\n",
       "      <td>CARP RD @ WESTBROOK RD (0001681)</td>\n",
       "      <td>4</td>\n",
       "      <td>0</td>\n",
       "      <td>0</td>\n",
       "      <td>347737.5651</td>\n",
       "      <td>5015442.441</td>\n",
       "      <td>-75.952727</td>\n",
       "      <td>45.277627</td>\n",
       "      <td>5</td>\n",
       "    </tr>\n",
       "  </tbody>\n",
       "</table>\n",
       "</div>"
      ],
      "text/plain": [
       "           X          Y  RECORD                          LOCATION___GEOID  \\\n",
       "0 -75.972058  45.293178     601    CARP RD @ RICHARDSON SIDE RD (0005759)   \n",
       "1 -75.946200  45.272493     602         CARP RD @ ROTHBOURNE RD (0002007)   \n",
       "2 -75.930049  45.267507     603   CARP RD @ STITTSVILLE MAIN ST (0005253)   \n",
       "3 -76.095795  45.373158     604  CARP RD @ THOMAS A. DOLAN PKWY (0002118)   \n",
       "4 -75.952727  45.277627     605          CARP RD @ WESTBROOK RD (0001681)   \n",
       "\n",
       "   TOTAL_COLLISIONS  CYCLIST_COLLISIONS  PEDESTRIAN_COLLISIONS       XCOORD  \\\n",
       "0                 3                   0                      0  346209.5557   \n",
       "1                 1                   0                      0  348253.5717   \n",
       "2                 5                   0                      0  349524.7861   \n",
       "3                 1                   0                      0  336459.5381   \n",
       "4                 4                   0                      0  347737.5651   \n",
       "\n",
       "        YCOORD  LONGITUDE   LATITUDE  ObjectId  \n",
       "0  5017160.457 -75.972058  45.293178         1  \n",
       "1  5014875.436 -75.946200  45.272493         2  \n",
       "2  5014330.203 -75.930049  45.267507         3  \n",
       "3  5025992.327 -76.095795  45.373158         4  \n",
       "4  5015442.441 -75.952727  45.277627         5  "
      ]
     },
     "execution_count": 6,
     "metadata": {},
     "output_type": "execute_result"
    }
   ],
   "source": [
    "collisions.head()"
   ]
  },
  {
   "cell_type": "code",
   "execution_count": null,
   "id": "530b2a0d-5240-44d3-b5ab-223bbf2e782d",
   "metadata": {},
   "outputs": [],
   "source": []
  }
 ],
 "metadata": {
  "kernelspec": {
   "display_name": "lighthouse_env",
   "language": "python",
   "name": "lighthouse_env"
  },
  "language_info": {
   "codemirror_mode": {
    "name": "ipython",
    "version": 3
   },
   "file_extension": ".py",
   "mimetype": "text/x-python",
   "name": "python",
   "nbconvert_exporter": "python",
   "pygments_lexer": "ipython3",
   "version": "3.9.13"
  }
 },
 "nbformat": 4,
 "nbformat_minor": 5
}
